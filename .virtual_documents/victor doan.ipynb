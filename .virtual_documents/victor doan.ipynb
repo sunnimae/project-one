


# Dependencies and Setup
import matplotlib.pyplot as plt
from scipy.stats import linregress
import pandas as pd
from scipy import stats

# Study data files
path = "resources/dallas.csv"


# Read the data from scv to create the dataframe
data_df = pd.read_csv(path)

# Display the data table for preview
data_df


# Create a new coloumn called Crime Rate per 100,000
# Convert columns to numeric, coercing errors to NaN
data_df["Total Offenses"] = pd.to_numeric(data_df["Total Offenses"], errors='coerce')
data_df["Population"] = pd.to_numeric(data_df["Population"], errors='coerce')

data_df["Crime Rate per 100,000"]=round((data_df["Total Offenses"]/data_df["Population"]*100000),2)
data_df






# Generate the boxplot for each county
data_df.boxplot(by="County", column="Crime Rate per 100,000", showfliers=True, grid=False)

plt.ylabel("Crime Rate per 100,000")
plt.xticks(rotation='vertical') 
plt.show()




# Calculate outliers
all_outliers = pd.DataFrame()

for county in data_df["County"].unique():
    county_data = data_df[data_df["County"] == county]

    # Calculate IQR
    Q1 = county_data["Crime Rate per 100,000"].quantile(0.25)
    Q3 = county_data["Crime Rate per 100,000"].quantile(0.75)
    IQR = Q3 - Q1

    # Determine outliers
    outliers = county_data[(county_data["Crime Rate per 100,000"] < (Q1 - 1.5 * IQR)) |
                           (county_data["Crime Rate per 100,000"] > (Q3 + 1.5 * IQR))]

    all_outliers = pd.concat([all_outliers, outliers], ignore_index=True)

all_outliers





# Create a new consolidated dataframe for metropolitan city.
metropolitan_df= data_df.groupby(["Year", "Metropolitan Area"]).agg({
   "Population": "sum", 
    "Total Offenses":"sum",
    "Crime Rate per 100,000": "sum"
}).reset_index()

population_df = metropolitan_df[["Year", "Population"]]
crime_rate_df=metropolitan_df[["Year", "Crime Rate per 100,000"]]

# Create a figure with two subplots
fig, (ax1, ax2, ax3) = plt.subplots(nrows=1, ncols=3, figsize=(21, 6))  

# Plot Population data
population_df.plot(kind='bar', x='Year', y='Population', ax=ax1, color='blue', title='Population by Year')
ax1.set_xlabel('Year')
ax1.set_ylabel('Population')
ax1.set_xticklabels(population_df['Year'], rotation=0)  

# Plot Crime Rate data
crime_rate_df.plot(kind='bar', x='Year', y='Crime Rate per 100,000', ax=ax2, color='red', title='Crime Rate per 100,000 by Year')
ax2.set_xlabel('Year')
ax2.set_ylabel('Crime Rate per 100,000')
ax2.set_xticklabels(crime_rate_df['Year'], rotation=0)  

# Plot Population versus Total Offenses over Years
metropolitan_df.plot(kind='line', x='Year', y='Total Offenses', marker='o', ax=ax3)
ax3.set_title('Total Number of Offenses Over Years')
ax3.set_xlabel('Year')
ax3.set_ylabel('Total Number of Offenses')
ax3.grid(True)

# Show the plot
plt.tight_layout()  
plt.show()



#Create the graph for Population over Total Offenses over Years


#print the metropolitan city df, export to csv if needed
metropolitan_df



# Calculate the population and crime rate change of the metropolitan city over 10 years 
population_df["Population Change %"] = round(population_df["Population"].pct_change() * 100,2)
crime_rate_df[" Crime Rate Change %"] = round(crime_rate_df["Crime Rate per 100,000"].pct_change() * 100,2)


# Create a figure with two subplots
fig, (ax1, ax2) = plt.subplots(nrows=1, ncols=2, figsize=(14, 6))  

# Plot Population Change %
population_df.plot(kind='bar', x='Year', y='Population Change %', ax=ax1, color='blue', title='Population Change % Thru Years')
ax1.set_xlabel('Year')
ax1.set_ylabel('Population Change %')
ax1.set_xticklabels(population_df['Year'], rotation=0)  

# Plot Crime Rate Change %
crime_rate_df.plot(kind='bar', x='Year', y=' Crime Rate Change %', ax=ax2, color='red', title='Crime Rate Change % Thru Years')
ax2.set_xlabel('Year')
ax2.set_ylabel('Crime Rate Change %')
ax2.set_xticklabels(crime_rate_df['Year'], rotation=0)  

# Show the plot
plt.tight_layout()  
plt.show()



#Regression Analysis btw the Population Change vs Crime Rate Change 
x_values=population_df["Population Change %"].dropna()
y_values=crime_rate_df[" Crime Rate Change %"].dropna()
(slope, intercept, rvalue, pvalue, stderr) = linregress(x_values, y_values)
regress_values = x_values * slope + intercept
line_eq = "y = " + str(round(slope,2)) + "x + " + str(round(intercept,2))
plt.scatter(x_values,y_values)
plt.plot(x_values,regress_values,"r-")
plt.annotate(line_eq,(5.8,0.8),fontsize=15,color="red")
plt.xlabel("Population Change %")
plt.ylabel("Crime Rate Change %")
plt.show()
print(f"r value is {rvalue}")






#Create two separate dataframes for covid and non-covid years
covid_years=[2020,2021]
crime_rate_covid_df=crime_rate_df[crime_rate_df["Year"].isin(covid_years)]
mean_crime_rate_covid = crime_rate_covid_df["Crime Rate per 100,000"].mean()
mean_crime_rate_covid



crime_rate_non_covid_df=crime_rate_df[~crime_rate_df["Year"].isin(covid_years)]
mean_crime_rate_non_covid = crime_rate_non_covid_df["Crime Rate per 100,000"].mean()
mean_crime_rate_non_covid 


# Running t-test on two independent population on null  hypothesis
t_stat, p_value=stats.ttest_ind(crime_rate_covid_df["Crime Rate per 100,000"],crime_rate_non_covid_df["Crime Rate per 100,000"], equal_var=False)
print("T-statistic:", t_stat)
print("P-value:", p_value)












